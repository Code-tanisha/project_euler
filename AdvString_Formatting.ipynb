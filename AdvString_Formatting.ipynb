{
  "nbformat": 4,
  "nbformat_minor": 0,
  "metadata": {
    "colab": {
      "name": "AdvString Formatting.ipynb",
      "provenance": [],
      "collapsed_sections": [],
      "authorship_tag": "ABX9TyPFg8oQYBfRJpk19cBdRckJ",
      "include_colab_link": true
    },
    "kernelspec": {
      "name": "python3",
      "display_name": "Python 3"
    }
  },
  "cells": [
    {
      "cell_type": "markdown",
      "metadata": {
        "id": "view-in-github",
        "colab_type": "text"
      },
      "source": [
        "<a href=\"https://colab.research.google.com/github/Tanisha2910/project_euler/blob/master/AdvString_Formatting.ipynb\" target=\"_parent\"><img src=\"https://colab.research.google.com/assets/colab-badge.svg\" alt=\"Open In Colab\"/></a>"
      ]
    },
    {
      "cell_type": "code",
      "metadata": {
        "id": "1NH2UR1GPzsm",
        "colab_type": "code",
        "outputId": "549d2e55-a82e-4da4-ff6e-9b0700a4e1d7",
        "colab": {
          "base_uri": "https://localhost:8080/",
          "height": 34
        }
      },
      "source": [
        "# String Concatenation\n",
        "person = {'name':'Jen', 'age':'23'}\n",
        "sentence = 'My name is ' + person['name'] + ' and I am ' + person['age'] + ' years old.'\n",
        "print(sentence)"
      ],
      "execution_count": 1,
      "outputs": [
        {
          "output_type": "stream",
          "text": [
            "My name is Jen and I am 23 years old.\n"
          ],
          "name": "stdout"
        }
      ]
    },
    {
      "cell_type": "code",
      "metadata": {
        "id": "NfM-wud5StZF",
        "colab_type": "code",
        "outputId": "fcc882cb-9cc2-4795-8877-8c6e8acb3f30",
        "colab": {
          "base_uri": "https://localhost:8080/",
          "height": 34
        }
      },
      "source": [
        "# String formatting\n",
        "person = {'name':'Zoo', 'age':'43'}\n",
        "sentence = 'My name is {} and I am {} years old.'.format(person['name'], person['age'])\n",
        "print(sentence)"
      ],
      "execution_count": 2,
      "outputs": [
        {
          "output_type": "stream",
          "text": [
            "My name is Zoo and I am 43 years old.\n"
          ],
          "name": "stdout"
        }
      ]
    },
    {
      "cell_type": "code",
      "metadata": {
        "id": "9os8SJyYUZf8",
        "colab_type": "code",
        "outputId": "4d238c70-9099-41d0-b426-8e3a4cfbea25",
        "colab": {
          "base_uri": "https://localhost:8080/",
          "height": 34
        }
      },
      "source": [
        "# String formatting\n",
        "person = {'name':'tani', 'age':'31'}\n",
        "sentence = 'My name is {0} and I am {1} years old.'.format(person['name'], person['age'])\n",
        "print(sentence)"
      ],
      "execution_count": 3,
      "outputs": [
        {
          "output_type": "stream",
          "text": [
            "My name is tani and I am 31 years old.\n"
          ],
          "name": "stdout"
        }
      ]
    },
    {
      "cell_type": "code",
      "metadata": {
        "id": "OkONMAXKUfal",
        "colab_type": "code",
        "outputId": "a6f4ca31-00ac-4bf4-d331-bb4968f90731",
        "colab": {
          "base_uri": "https://localhost:8080/",
          "height": 34
        }
      },
      "source": [
        "tag = 'h1'\n",
        "text = 'this is a headline'\n",
        "sentence = '<{0}>{1}</{0}>'.format(tag, text)\n",
        "print(sentence)"
      ],
      "execution_count": 4,
      "outputs": [
        {
          "output_type": "stream",
          "text": [
            "<h1>this is a headline</h1>\n"
          ],
          "name": "stdout"
        }
      ]
    },
    {
      "cell_type": "code",
      "metadata": {
        "id": "TQkWlHz0dD-l",
        "colab_type": "code",
        "colab": {
          "base_uri": "https://localhost:8080/",
          "height": 187
        },
        "outputId": "fcc6ab7a-13da-4522-fa06-afaa96e8b60b"
      },
      "source": [
        "# FORMATING\n",
        "for i in range(1,11):\n",
        "  sentence = 'The value is {}'.format(i)\n",
        "  print(sentence)"
      ],
      "execution_count": 9,
      "outputs": [
        {
          "output_type": "stream",
          "text": [
            "The value is 1\n",
            "The value is 2\n",
            "The value is 3\n",
            "The value is 4\n",
            "The value is 5\n",
            "The value is 6\n",
            "The value is 7\n",
            "The value is 8\n",
            "The value is 9\n",
            "The value is 10\n"
          ],
          "name": "stdout"
        }
      ]
    },
    {
      "cell_type": "code",
      "metadata": {
        "id": "gKqI3dAzhKtp",
        "colab_type": "code",
        "colab": {
          "base_uri": "https://localhost:8080/",
          "height": 187
        },
        "outputId": "a833869d-4590-4849-c7d4-049dc8150d96"
      },
      "source": [
        "for i in range(1,11):\n",
        "  sentence = 'The value is {:02}'.format(i)\n",
        "  print(sentence)"
      ],
      "execution_count": 10,
      "outputs": [
        {
          "output_type": "stream",
          "text": [
            "The value is 01\n",
            "The value is 02\n",
            "The value is 03\n",
            "The value is 04\n",
            "The value is 05\n",
            "The value is 06\n",
            "The value is 07\n",
            "The value is 08\n",
            "The value is 09\n",
            "The value is 10\n"
          ],
          "name": "stdout"
        }
      ]
    },
    {
      "cell_type": "code",
      "metadata": {
        "id": "f18EGuTshNi4",
        "colab_type": "code",
        "colab": {
          "base_uri": "https://localhost:8080/",
          "height": 34
        },
        "outputId": "8314abb3-4466-4ca7-a1f3-9b7fe5afb3bd"
      },
      "source": [
        "# Formating of decimal nos,\n",
        "# Here we want no with only 2 decimal places\n",
        "p = 3.15678029\n",
        "sentence = 'p is equal to {:.2f}'.format(p)\n",
        "print(sentence)"
      ],
      "execution_count": 11,
      "outputs": [
        {
          "output_type": "stream",
          "text": [
            "p is equal to 3.16\n"
          ],
          "name": "stdout"
        }
      ]
    },
    {
      "cell_type": "code",
      "metadata": {
        "id": "QUnSPD812iNW",
        "colab_type": "code",
        "colab": {
          "base_uri": "https://localhost:8080/",
          "height": 34
        },
        "outputId": "372c8198-9a7c-4321-fb2d-5b6a4c800448"
      },
      "source": [
        "# Down we want to print a large no and we want some comma seperators to make it more readable\n",
        "sentence = '1 MB is equal to : {:,} bytes'.format(1000**2)\n",
        "print(sentence)"
      ],
      "execution_count": 15,
      "outputs": [
        {
          "output_type": "stream",
          "text": [
            "1 MB is equal to : 1,000,000 bytes\n"
          ],
          "name": "stdout"
        }
      ]
    },
    {
      "cell_type": "code",
      "metadata": {
        "id": "byttuwg53rlq",
        "colab_type": "code",
        "colab": {
          "base_uri": "https://localhost:8080/",
          "height": 34
        },
        "outputId": "45d4b6b4-2d27-4207-f044-0315724b32f8"
      },
      "source": [
        "# Printing date time and year\n",
        "import datetime\n",
        "my_date = datetime.datetime(1996, 10, 29, 12, 25, 55)\n",
        "print(my_date)"
      ],
      "execution_count": 17,
      "outputs": [
        {
          "output_type": "stream",
          "text": [
            "1996-10-29 12:25:55\n"
          ],
          "name": "stdout"
        }
      ]
    },
    {
      "cell_type": "code",
      "metadata": {
        "id": "jl_3nkVQ4BUk",
        "colab_type": "code",
        "colab": {}
      },
      "source": [
        "\n"
      ],
      "execution_count": 0,
      "outputs": []
    }
  ]
}