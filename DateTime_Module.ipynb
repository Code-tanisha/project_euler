{
  "nbformat": 4,
  "nbformat_minor": 0,
  "metadata": {
    "colab": {
      "name": "DateTime Module.ipynb",
      "provenance": [],
      "authorship_tag": "ABX9TyMpWMLhj/ADGVosqf6a6rFc",
      "include_colab_link": true
    },
    "kernelspec": {
      "name": "python3",
      "display_name": "Python 3"
    }
  },
  "cells": [
    {
      "cell_type": "markdown",
      "metadata": {
        "id": "view-in-github",
        "colab_type": "text"
      },
      "source": [
        "<a href=\"https://colab.research.google.com/github/Tanisha2910/project_euler/blob/master/DateTime_Module.ipynb\" target=\"_parent\"><img src=\"https://colab.research.google.com/assets/colab-badge.svg\" alt=\"Open In Colab\"/></a>"
      ]
    },
    {
      "cell_type": "code",
      "metadata": {
        "id": "YlPkCmsL6xVM",
        "colab_type": "code",
        "colab": {
          "base_uri": "https://localhost:8080/",
          "height": 34
        },
        "outputId": "b60c9803-a581-4a9b-da06-717af9295370"
      },
      "source": [
        "import datetime\n",
        "d = datetime.date(2016, 7, 24)\n",
        "print(d)"
      ],
      "execution_count": 2,
      "outputs": [
        {
          "output_type": "stream",
          "text": [
            "2016-07-24\n"
          ],
          "name": "stdout"
        }
      ]
    },
    {
      "cell_type": "code",
      "metadata": {
        "id": "YgeKCht9M8-x",
        "colab_type": "code",
        "colab": {
          "base_uri": "https://localhost:8080/",
          "height": 34
        },
        "outputId": "221a2587-98b0-4922-af09-874ba918066d"
      },
      "source": [
        "# Fot todays date\n",
        "tday = datetime.date.today()\n",
        "print(tday)"
      ],
      "execution_count": 3,
      "outputs": [
        {
          "output_type": "stream",
          "text": [
            "2020-04-08\n"
          ],
          "name": "stdout"
        }
      ]
    },
    {
      "cell_type": "code",
      "metadata": {
        "id": "vH3WeM1_RiOR",
        "colab_type": "code",
        "colab": {
          "base_uri": "https://localhost:8080/",
          "height": 68
        },
        "outputId": "80b6aa91-9bf4-40c1-cee0-a7a7bc30f6b5"
      },
      "source": [
        "tday = datetime.date.today()\n",
        "print(tday.year)\n",
        "print(tday.month)\n",
        "print(tday.day)"
      ],
      "execution_count": 4,
      "outputs": [
        {
          "output_type": "stream",
          "text": [
            "2020\n",
            "4\n",
            "8\n"
          ],
          "name": "stdout"
        }
      ]
    },
    {
      "cell_type": "code",
      "metadata": {
        "id": "Sa15kmvISBKv",
        "colab_type": "code",
        "colab": {
          "base_uri": "https://localhost:8080/",
          "height": 51
        },
        "outputId": "0fa07c1c-9a2c-4ee0-df78-c69f0bb98a45"
      },
      "source": [
        "# Now if we want the day of the week so we can do it in 2different ways\n",
        "print(tday.weekday())\n",
        "print(tday.isoweekday())"
      ],
      "execution_count": 5,
      "outputs": [
        {
          "output_type": "stream",
          "text": [
            "2\n",
            "3\n"
          ],
          "name": "stdout"
        }
      ]
    },
    {
      "cell_type": "code",
      "metadata": {
        "id": "8iBSsbMNSOte",
        "colab_type": "code",
        "colab": {
          "base_uri": "https://localhost:8080/",
          "height": 51
        },
        "outputId": "6ac05c4c-e3a6-492e-9b37-0340dd2c3738"
      },
      "source": [
        "# What the date will be 1 week from now\n",
        "tday = datetime.date.today()\n",
        "tdelta = datetime.timedelta(days = 7)\n",
        "print(tday + tdelta)\n",
        "\n",
        "# Date before 1 week\n",
        "print(tday - tdelta)"
      ],
      "execution_count": 6,
      "outputs": [
        {
          "output_type": "stream",
          "text": [
            "2020-04-15\n",
            "2020-04-01\n"
          ],
          "name": "stdout"
        }
      ]
    },
    {
      "cell_type": "code",
      "metadata": {
        "id": "zm4yedX1cggd",
        "colab_type": "code",
        "colab": {
          "base_uri": "https://localhost:8080/",
          "height": 51
        },
        "outputId": "6a5eaa55-07f1-4611-a88f-bc7542889d21"
      },
      "source": [
        "# attributes (hours, minutes, seconds , micro seconds)\n",
        "t = datetime.time(9, 30, 45, 10000)\n",
        "print(t)\n",
        "print(t.hour)"
      ],
      "execution_count": 7,
      "outputs": [
        {
          "output_type": "stream",
          "text": [
            "09:30:45.010000\n",
            "9\n"
          ],
          "name": "stdout"
        }
      ]
    },
    {
      "cell_type": "code",
      "metadata": {
        "id": "BDAZy9g7pCEH",
        "colab_type": "code",
        "colab": {
          "base_uri": "https://localhost:8080/",
          "height": 34
        },
        "outputId": "fc63e404-bd66-420f-8c89-2e83671c609e"
      },
      "source": [
        "dt = datetime.datetime(2016, 10, 29, 12, 36, 45, 10000)\n",
        "tdelta = datetime.timedelta(hours =12)\n",
        "print(tdelta + dt)"
      ],
      "execution_count": 8,
      "outputs": [
        {
          "output_type": "stream",
          "text": [
            "2016-10-30 00:36:45.010000\n"
          ],
          "name": "stdout"
        }
      ]
    },
    {
      "cell_type": "code",
      "metadata": {
        "id": "k4vy4S1X15az",
        "colab_type": "code",
        "colab": {
          "base_uri": "https://localhost:8080/",
          "height": 68
        },
        "outputId": "ea90a326-9473-4c43-c01e-502f0b3da3fd"
      },
      "source": [
        "dt_today = datetime.datetime.today()\n",
        "dt_now = datetime.datetime.now()\n",
        "dt_utcnow = datetime.datetime.utcnow()\n",
        "\n",
        "print(dt_today)\n",
        "print(dt_now)\n",
        "print(dt_utcnow)"
      ],
      "execution_count": 9,
      "outputs": [
        {
          "output_type": "stream",
          "text": [
            "2020-04-08 13:37:44.307078\n",
            "2020-04-08 13:37:44.307126\n",
            "2020-04-08 13:37:44.307154\n"
          ],
          "name": "stdout"
        }
      ]
    },
    {
      "cell_type": "code",
      "metadata": {
        "id": "5pL5fSiAAs4D",
        "colab_type": "code",
        "colab": {}
      },
      "source": [
        ""
      ],
      "execution_count": 0,
      "outputs": []
    }
  ]
}