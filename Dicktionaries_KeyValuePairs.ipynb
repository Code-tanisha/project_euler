{
  "nbformat": 4,
  "nbformat_minor": 0,
  "metadata": {
    "colab": {
      "name": "Dicktionaries-KeyValuePairs.ipynb",
      "provenance": [],
      "authorship_tag": "ABX9TyP0M6eX6vRNmlU/aQLn5kF+",
      "include_colab_link": true
    },
    "kernelspec": {
      "name": "python3",
      "display_name": "Python 3"
    }
  },
  "cells": [
    {
      "cell_type": "markdown",
      "metadata": {
        "id": "view-in-github",
        "colab_type": "text"
      },
      "source": [
        "<a href=\"https://colab.research.google.com/github/Tanisha2910/project_euler/blob/master/Dicktionaries_KeyValuePairs.ipynb\" target=\"_parent\"><img src=\"https://colab.research.google.com/assets/colab-badge.svg\" alt=\"Open In Colab\"/></a>"
      ]
    },
    {
      "cell_type": "markdown",
      "metadata": {
        "id": "36p93b5248PD",
        "colab_type": "text"
      },
      "source": [
        "Key Value Pair - Key is the unique identifier where we find our data and the value is our data.\n"
      ]
    },
    {
      "cell_type": "code",
      "metadata": {
        "id": "Uu0zVGEV54DZ",
        "colab_type": "code",
        "colab": {
          "base_uri": "https://localhost:8080/",
          "height": 119
        },
        "outputId": "942d278b-7e5d-4ba2-df7a-edd01a750faa"
      },
      "source": [
        "# Now we want represent a student using a dictionary\n",
        "# In curly braces we will 1st put our key ie. name then we will use a color to seperate our key from value, next key ia age and the value is 25 and the last key is courses and we have hiven a list of coursed there maths and gk.\n",
        "student = {'name' : 'John', 'age' : 25, 'courses' : ['Math', 'GK']}\n",
        "print(student)\n",
        "print(student['name'])\n",
        "# Trying to access key that doesn't exist\n",
        "#print(student['phone'])\n",
        "print(student['age'])\n",
        "print(student.get('courses'))\n",
        "\n",
        "# Trying to access key that doesn't exist\n",
        "print(student.get('phone'))\n",
        "print(student.get('phone', 'Not Found'))"
      ],
      "execution_count": 12,
      "outputs": [
        {
          "output_type": "stream",
          "text": [
            "{'name': 'John', 'age': 25, 'courses': ['Math', 'GK']}\n",
            "John\n",
            "25\n",
            "['Math', 'GK']\n",
            "None\n",
            "Not Found\n"
          ],
          "name": "stdout"
        }
      ]
    },
    {
      "cell_type": "code",
      "metadata": {
        "id": "fuXne0ce7Hpn",
        "colab_type": "code",
        "colab": {
          "base_uri": "https://localhost:8080/",
          "height": 51
        },
        "outputId": "1d18e674-1a7c-45bf-f658-71b7279432be"
      },
      "source": [
        "# Adding new entry to our dictionary\n",
        "student = {'name' : 'John', 'age' : 25, 'courses' : ['Math', 'GK']}\n",
        "student['phone-no'] = '555-555-555'\n",
        "print(student)\n",
        "print(student.get('phone-no', 'Not Found'))"
      ],
      "execution_count": 16,
      "outputs": [
        {
          "output_type": "stream",
          "text": [
            "{'name': 'John', 'age': 25, 'courses': ['Math', 'GK'], 'phone-no': '555-555-555'}\n",
            "555-555-555\n"
          ],
          "name": "stdout"
        }
      ]
    },
    {
      "cell_type": "code",
      "metadata": {
        "id": "CAi_MJRiBLWa",
        "colab_type": "code",
        "colab": {}
      },
      "source": [
        ""
      ],
      "execution_count": 0,
      "outputs": []
    }
  ]
}